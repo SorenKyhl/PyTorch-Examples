{
  "cells": [
    {
      "cell_type": "markdown",
      "metadata": {
        "id": "view-in-github",
        "colab_type": "text"
      },
      "source": [
        "<a href=\"https://colab.research.google.com/github/SorenKyhl/PyTorch-Examples/blob/main/1_3_Planar_data_classification_with_one_hidden_layer.ipynb\" target=\"_parent\"><img src=\"https://colab.research.google.com/assets/colab-badge.svg\" alt=\"Open In Colab\"/></a>"
      ]
    },
    {
      "cell_type": "markdown",
      "metadata": {
        "id": "2Vh7Y2We0tRH"
      },
      "source": [
        "# Planar data classification with one hidden layer\n",
        "\n",
        "Welcome to your week 3 programming assignment! It's time to build your first neural network, which will have one hidden layer. Now, you'll notice a big difference between this model and the one you implemented previously using logistic regression.\n",
        "\n",
        "By the end of this assignment, you'll be able to:\n",
        "\n",
        "- Implement a 2-class classification neural network with a single hidden layer\n",
        "- Use units with a non-linear activation function, such as tanh\n",
        "- Compute the cross entropy loss\n",
        "- Implement forward and backward propagation\n",
        "\n",
        "## Important Note on Submission to the AutoGrader\n",
        "\n",
        "Before submitting your assignment to the AutoGrader, please make sure you are not doing the following:\n",
        "\n",
        "1. You have not added any _extra_ `print` statement(s) in the assignment.\n",
        "2. You have not added any _extra_ code cell(s) in the assignment.\n",
        "3. You have not changed any of the function parameters.\n",
        "4. You are not using any global variables inside your graded exercises. Unless specifically instructed to do so, please refrain from it and use the local variables instead.\n",
        "5. You are not changing the assignment code where it is not required, like creating _extra_ variables.\n",
        "\n",
        "If you do any of the following, you will get something like, `Grader Error: Grader feedback not found` (or similarly unexpected) error upon submitting your assignment. Before asking for help/debugging the errors in your assignment, check for these first. If this is the case, and you don't remember the changes you have made, you can get a fresh copy of the assignment by following these [instructions](https://www.coursera.org/learn/neural-networks-deep-learning/supplement/xLEC1/optional-downloading-your-notebook-downloading-your-workspace-and-refreshing)."
      ]
    },
    {
      "cell_type": "markdown",
      "metadata": {
        "id": "59KRQdMv0tRN"
      },
      "source": [
        "## Table of Contents\n",
        "- [1 - Packages](#1)\n",
        "- [2 - Load the Dataset](#2)\n",
        "    - [Exercise 1](#ex-1)\n",
        "- [3 - Simple Logistic Regression](#3)\n",
        "- [4 - Neural Network model](#4)\n",
        "    - [4.1 - Defining the neural network structure](#4-1)\n",
        "        - [Exercise 2 - layer_sizes](#ex-2)\n",
        "    - [4.2 - Initialize the model's parameters](#4-2)\n",
        "        - [Exercise 3 - initialize_parameters](#ex-3)\n",
        "    - [4.3 - The Loop](#4-3)\n",
        "        - [Exercise 4 - forward_propagation](#ex-4)\n",
        "    - [4.4 - Compute the Cost](#4-4)\n",
        "        - [Exercise 5 - compute_cost](#ex-5)\n",
        "    - [4.5 - Implement Backpropagation](#4-5)\n",
        "        - [Exercise 6 - backward_propagation](#ex-6)\n",
        "    - [4.6 - Update Parameters](#4-6)\n",
        "        - [Exercise 7 - update_parameters](#ex-7)\n",
        "    - [4.7 - Integration](#4-7)\n",
        "        - [Exercise 8 - nn_model](#ex-8)\n",
        "- [5 - Test the Model](#5)\n",
        "    - [5.1 - Predict](#5-1)\n",
        "        - [Exercise 9 - predict](#ex-9)\n",
        "    - [5.2 - Test the Model on the Planar Dataset](#5-2)\n",
        "- [6 - Tuning hidden layer size (optional/ungraded exercise)](#6)\n",
        "- [7- Performance on other datasets](#7)"
      ]
    },
    {
      "cell_type": "markdown",
      "metadata": {
        "id": "LzhwYxYy0tRO"
      },
      "source": [
        "<a name='1'></a>\n",
        "# 1 - Packages\n",
        "\n",
        "First import all the packages that you will need during this assignment.\n",
        "\n",
        "- [numpy](https://www.numpy.org/) is the fundamental package for scientific computing with Python.\n",
        "- [sklearn](http://scikit-learn.org/stable/) provides simple and efficient tools for data mining and data analysis.\n",
        "- [matplotlib](http://matplotlib.org) is a library for plotting graphs in Python.\n",
        "- testCases provides some test examples to assess the correctness of your functions\n",
        "- planar_utils provide various useful functions used in this assignment"
      ]
    },
    {
      "cell_type": "code",
      "execution_count": null,
      "metadata": {
        "deletable": false,
        "editable": false,
        "id": "1iWdtiN_0tRP"
      },
      "outputs": [],
      "source": [
        "### v1.2"
      ]
    },
    {
      "cell_type": "code",
      "execution_count": null,
      "metadata": {
        "id": "2adEd6A30tRQ",
        "outputId": "5e1b725b-d4fa-44b6-b870-1cb484f84822"
      },
      "outputs": [
        {
          "name": "stdout",
          "output_type": "stream",
          "text": [
            "The autoreload extension is already loaded. To reload it, use:\n",
            "  %reload_ext autoreload\n"
          ]
        }
      ],
      "source": [
        "# Package imports\n",
        "import numpy as np\n",
        "import copy\n",
        "import matplotlib.pyplot as plt\n",
        "from testCases_v2 import *\n",
        "from public_tests import *\n",
        "import sklearn\n",
        "import sklearn.datasets\n",
        "import sklearn.linear_model\n",
        "from planar_utils import plot_decision_boundary, sigmoid, load_planar_dataset, load_extra_datasets\n",
        "\n",
        "%matplotlib inline\n",
        "\n",
        "%load_ext autoreload\n",
        "%autoreload 2"
      ]
    },
    {
      "cell_type": "markdown",
      "metadata": {
        "id": "2S6EP0cU0tRR"
      },
      "source": [
        "<a name='2'></a>\n",
        "# 2 - Load the Dataset\n",
        "\n"
      ]
    },
    {
      "cell_type": "code",
      "execution_count": null,
      "metadata": {
        "id": "NtsOaY5C0tRS"
      },
      "outputs": [],
      "source": [
        "X, Y = load_planar_dataset()"
      ]
    },
    {
      "cell_type": "markdown",
      "metadata": {
        "id": "oJFUx3B_0tRS"
      },
      "source": [
        "Visualize the dataset using matplotlib. The data looks like a \"flower\" with some red (label y=0) and some blue (y=1) points. Your goal is to build a model to fit this data. In other words, we want the classifier to define regions as either red or blue."
      ]
    },
    {
      "cell_type": "code",
      "execution_count": null,
      "metadata": {
        "id": "fLnpgBcT0tRT",
        "outputId": "b6dc580f-2040-481e-84c3-818a6356a9a6"
      },
      "outputs": [
        {
          "data": {
            "image/png": "[encoded data removed]",
            "text/plain": [
              "<Figure size 432x288 with 1 Axes>"
            ]
          },
          "metadata": {
            "needs_background": "light"
          },
          "output_type": "display_data"
        }
      ],
      "source": [
        "# Visualize the data:\n",
        "plt.scatter(X[0, :], X[1, :], c=Y, s=40, cmap=plt.cm.Spectral);"
      ]
    },
    {
      "cell_type": "markdown",
      "metadata": {
        "id": "LMu4BV3y0tRT"
      },
      "source": [
        "You have:\n",
        "    - a numpy-array (matrix) X that contains your features (x1, x2)\n",
        "    - a numpy-array (vector) Y that contains your labels (red:0, blue:1).\n",
        "\n",
        "First, get a better sense of what your data is like.\n",
        "\n",
        "<a name='ex-1'></a>\n",
        "### Exercise 1\n",
        "\n",
        "How many training examples do you have? In addition, what is the `shape` of the variables `X` and `Y`?\n",
        "\n",
        "**Hint**: How do you get the shape of a numpy array? [(help)](https://docs.scipy.org/doc/numpy/reference/generated/numpy.ndarray.shape.html)"
      ]
    },
    {
      "cell_type": "code",
      "execution_count": null,
      "metadata": {
        "deletable": false,
        "nbgrader": {
          "cell_type": "code",
          "checksum": "d19673d5fa7f72081dde6ac5ebef8373",
          "grade": false,
          "grade_id": "cell-da23a484a9233d5c",
          "locked": false,
          "schema_version": 3,
          "solution": true,
          "task": false
        },
        "id": "fbJZHj0U0tRU",
        "outputId": "2a7ab9e8-de9e-4d8e-df54-0162365dd863"
      },
      "outputs": [
        {
          "name": "stdout",
          "output_type": "stream",
          "text": [
            "The shape of X is: (2, 400)\n",
            "The shape of Y is: (1, 400)\n",
            "I have m = 400 training examples!\n"
          ]
        }
      ],
      "source": [
        "# (≈ 3 lines of code)\n",
        "# shape_X = ...\n",
        "# shape_Y = ...\n",
        "# training set size\n",
        "# m = ...\n",
        "# YOUR CODE STARTS HERE\n",
        "\n",
        "shape_X = X.shape\n",
        "shape_Y = Y.shape\n",
        "m = shape_X[1]\n",
        "\n",
        "\n",
        "# YOUR CODE ENDS HERE\n",
        "\n",
        "print ('The shape of X is: ' + str(shape_X))\n",
        "print ('The shape of Y is: ' + str(shape_Y))\n",
        "print ('I have m = %d training examples!' % (m))"
      ]
    },
    {
      "cell_type": "markdown",
      "metadata": {
        "id": "VUBfV9fy0tRU"
      },
      "source": [
        "**Expected Output**:\n",
        "       \n",
        "<table style=\"width:20%\">\n",
        "  <tr>\n",
        "    <td> shape of X </td>\n",
        "    <td> (2, 400) </td>\n",
        "  </tr>\n",
        "  <tr>\n",
        "    <td>shape of Y</td>\n",
        "    <td>(1, 400) </td>\n",
        "    </tr>\n",
        "    <tr>\n",
        "    <td>m</td>\n",
        "    <td> 400 </td>\n",
        "  </tr>\n",
        "</table>"
      ]
    },
    {
      "cell_type": "markdown",
      "metadata": {
        "id": "Xe9Z78tN0tRV"
      },
      "source": [
        "<a name='3'></a>\n",
        "## 3 - Simple Logistic Regression\n",
        "\n",
        "Before building a full neural network, let's check how logistic regression performs on this problem. You can use sklearn's built-in functions for this. Run the code below to train a logistic regression classifier on the dataset."
      ]
    },
    {
      "cell_type": "code",
      "execution_count": null,
      "metadata": {
        "id": "RvXz9S-90tRV"
      },
      "outputs": [],
      "source": [
        "# Train the logistic regression classifier\n",
        "clf = sklearn.linear_model.LogisticRegressionCV();\n",
        "clf.fit(X.T, Y.T);"
      ]
    },
    {
      "cell_type": "markdown",
      "metadata": {
        "id": "TlEmz67b0tRV"
      },
      "source": [
        "You can now plot the decision boundary of these models! Run the code below."
      ]
    },
    {
      "cell_type": "code",
      "execution_count": null,
      "metadata": {
        "id": "A6_HSQrM0tRW",
        "outputId": "7652c459-f6a1-49cc-9138-3373c5b0805a"
      },
      "outputs": [
        {
          "name": "stdout",
          "output_type": "stream",
          "text": [
            "Accuracy of logistic regression: 47 % (percentage of correctly labelled datapoints)\n"
          ]
        },
        {
          "data": {
            "image/png": "[encoded data removed]",
            "text/plain": [
              "<Figure size 432x288 with 1 Axes>"
            ]
          },
          "metadata": {
            "needs_background": "light"
          },
          "output_type": "display_data"
        }
      ],
      "source": [
        "# Plot the decision boundary for logistic regression\n",
        "plot_decision_boundary(lambda x: clf.predict(x), X, Y)\n",
        "plt.title(\"Logistic Regression\")\n",
        "\n",
        "# Print accuracy\n",
        "LR_predictions = clf.predict(X.T)\n",
        "print ('Accuracy of logistic regression: %d ' % float((np.dot(Y,LR_predictions) + np.dot(1-Y,1-LR_predictions))/float(Y.size)*100) +\n",
        "       '% ' + \"(percentage of correctly labelled datapoints)\")"
      ]
    },
    {
      "cell_type": "markdown",
      "metadata": {
        "id": "SE-CEs-C0tRW"
      },
      "source": [
        "**Expected Output**:\n",
        "\n",
        "<table style=\"width:20%\">\n",
        "  <tr>\n",
        "    <td>Accuracy</td>\n",
        "    <td> 47% </td>\n",
        "  </tr>\n",
        "  \n",
        "</table>\n"
      ]
    },
    {
      "cell_type": "markdown",
      "metadata": {
        "id": "xijgu1GO0tRW"
      },
      "source": [
        "**Interpretation**: The dataset is not linearly separable, so logistic regression doesn't perform well. Hopefully a neural network will do better. Let's try this now!"
      ]
    },
    {
      "cell_type": "markdown",
      "metadata": {
        "id": "XyP0zQ6L0tRW"
      },
      "source": [
        "<a name='4'></a>\n",
        "## 4 - Neural Network model\n",
        "\n",
        "Logistic regression didn't work well on the flower dataset. Next, you're going to train a Neural Network with a single hidden layer and see how that handles the same problem.\n",
        "\n",
        "**The model**:\n",
        "<img src=\"images/classification_kiank.png\" style=\"width:600px;height:300px;\">\n",
        "\n",
        "**Mathematically**:\n",
        "\n",
        "For one example $x^{(i)}$:\n",
        "$$z^{[1] (i)} =  W^{[1]} x^{(i)} + b^{[1]}\\tag{1}$$\n",
        "$$a^{[1] (i)} = \\tanh(z^{[1] (i)})\\tag{2}$$\n",
        "$$z^{[2] (i)} = W^{[2]} a^{[1] (i)} + b^{[2]}\\tag{3}$$\n",
        "$$\\hat{y}^{(i)} = a^{[2] (i)} = \\sigma(z^{ [2] (i)})\\tag{4}$$\n",
        "$$y^{(i)}_{prediction} = \\begin{cases} 1 & \\mbox{if } a^{[2](i)} > 0.5 \\\\ 0 & \\mbox{otherwise } \\end{cases}\\tag{5}$$\n",
        "\n",
        "Given the predictions on all the examples, you can also compute the cost $J$ as follows:\n",
        "$$J = - \\frac{1}{m} \\sum\\limits_{i = 0}^{m} \\large\\left(\\small y^{(i)}\\log\\left(a^{[2] (i)}\\right) + (1-y^{(i)})\\log\\left(1- a^{[2] (i)}\\right)  \\large  \\right) \\small \\tag{6}$$\n",
        "\n",
        "**Reminder**: The general methodology to build a Neural Network is to:\n",
        "    1. Define the neural network structure ( # of input units,  # of hidden units, etc).\n",
        "    2. Initialize the model's parameters\n",
        "    3. Loop:\n",
        "        - Implement forward propagation\n",
        "        - Compute loss\n",
        "        - Implement backward propagation to get the gradients\n",
        "        - Update parameters (gradient descent)\n",
        "\n",
        "In practice, you'll often build helper functions to compute steps 1-3, then merge them into one function called `nn_model()`. Once you've built `nn_model()` and learned the right parameters, you can make predictions on new data."
      ]
    },
    {
      "cell_type": "markdown",
      "metadata": {
        "id": "UaeJugDw0tRW"
      },
      "source": [
        "<a name='4-1'></a>\n",
        "### 4.1 - Defining the neural network structure ####\n",
        "\n",
        "<a name='ex-2'></a>\n",
        "### Exercise 2 - layer_sizes\n",
        "\n",
        "Define three variables:\n",
        "- n_x: the size of the input layer\n",
        "- n_h: the size of the hidden layer (**set this to 4, as `n_h = 4`, but only for this Exercise 2**)\n",
        "- n_y: the size of the output layer\n",
        "\n",
        "**Hint**: Use shapes of X and Y to find n_x and n_y. Also, hard code the hidden layer size to be 4."
      ]
    },
    {
      "cell_type": "code",
      "execution_count": null,
      "metadata": {
        "deletable": false,
        "nbgrader": {
          "cell_type": "code",
          "checksum": "40a4061cd6df43988d25ebea254e3a3b",
          "grade": false,
          "grade_id": "cell-bf6ef9d827b48201",
          "locked": false,
          "schema_version": 3,
          "solution": true,
          "task": false
        },
        "id": "sILjyZ3b0tRW"
      },
      "outputs": [],
      "source": [
        "# GRADED FUNCTION: layer_sizes\n",
        "\n",
        "def layer_sizes(X, Y):\n",
        "    \"\"\"\n",
        "    Arguments:\n",
        "    X -- input dataset of shape (input size, number of examples)\n",
        "    Y -- labels of shape (output size, number of examples)\n",
        "\n",
        "    Returns:\n",
        "    n_x -- the size of the input layer\n",
        "    n_h -- the size of the hidden layer\n",
        "    n_y -- the size of the output layer\n",
        "    \"\"\"\n",
        "    #(≈ 3 lines of code)\n",
        "    # n_x = ...\n",
        "    # n_h = ...\n",
        "    # n_y = ...\n",
        "    # YOUR CODE STARTS HERE\n",
        "    n_x = X.shape[0]\n",
        "    n_h = 4\n",
        "    n_y = Y.shape[0]\n",
        "\n",
        "\n",
        "    # YOUR CODE ENDS HERE\n",
        "    return (n_x, n_h, n_y)"
      ]
    },
    {
      "cell_type": "code",
      "execution_count": null,
      "metadata": {
        "deletable": false,
        "editable": false,
        "nbgrader": {
          "cell_type": "code",
          "checksum": "314281d8cdb343ad6fc836d2f68ddc84",
          "grade": true,
          "grade_id": "cell-c98fce5b0806c953",
          "locked": true,
          "points": 10,
          "schema_version": 3,
          "solution": false,
          "task": false
        },
        "id": "Tkvy8PlU0tRX",
        "outputId": "8b7c4086-8dd7-4167-fb5e-2234ef6ce1a7"
      },
      "outputs": [
        {
          "name": "stdout",
          "output_type": "stream",
          "text": [
            "The size of the input layer is: n_x = 5\n",
            "The size of the hidden layer is: n_h = 4\n",
            "The size of the output layer is: n_y = 2\n",
            "\u001b[92mAll tests passed!\n"
          ]
        }
      ],
      "source": [
        "t_X, t_Y = layer_sizes_test_case()\n",
        "(n_x, n_h, n_y) = layer_sizes(t_X, t_Y)\n",
        "print(\"The size of the input layer is: n_x = \" + str(n_x))\n",
        "print(\"The size of the hidden layer is: n_h = \" + str(n_h))\n",
        "print(\"The size of the output layer is: n_y = \" + str(n_y))\n",
        "\n",
        "layer_sizes_test(layer_sizes)"
      ]
    },
    {
      "cell_type": "markdown",
      "metadata": {
        "id": "CfpFH0fa0tRX"
      },
      "source": [
        "***Expected output***\n",
        "```\n",
        "The size of the input layer is: n_x = 5\n",
        "The size of the hidden layer is: n_h = 4\n",
        "The size of the output layer is: n_y = 2\n",
        "All tests passed!\n",
        "```"
      ]
    },
    {
      "cell_type": "markdown",
      "metadata": {
        "id": "_mqP-Sb60tRX"
      },
      "source": [
        "<a name='4-2'></a>\n",
        "### 4.2 - Initialize the model's parameters ####\n",
        "\n",
        "<a name='ex-3'></a>\n",
        "### Exercise 3 -  initialize_parameters\n",
        "\n",
        "Implement the function `initialize_parameters()`.\n",
        "\n",
        "**Instructions**:\n",
        "- Make sure your parameters' sizes are right. Refer to the neural network figure above if needed.\n",
        "- You will initialize the weights matrices with random values.\n",
        "    - Use: `np.random.randn(a,b) * 0.01` to randomly initialize a matrix of shape (a,b).\n",
        "- You will initialize the bias vectors as zeros.\n",
        "    - Use: `np.zeros((a,b))` to initialize a matrix of shape (a,b) with zeros."
      ]
    },
    {
      "cell_type": "code",
      "execution_count": null,
      "metadata": {
        "deletable": false,
        "nbgrader": {
          "cell_type": "code",
          "checksum": "09cf806395560c43e4a130688bae9096",
          "grade": false,
          "grade_id": "cell-e701a137e4b826ea",
          "locked": false,
          "schema_version": 3,
          "solution": true,
          "task": false
        },
        "id": "4888DYlw0tRY"
      },
      "outputs": [],
      "source": [
        "# GRADED FUNCTION: initialize_parameters\n",
        "\n",
        "def initialize_parameters(n_x, n_h, n_y):\n",
        "    \"\"\"\n",
        "    Argument:\n",
        "    n_x -- size of the input layer\n",
        "    n_h -- size of the hidden layer\n",
        "    n_y -- size of the output layer\n",
        "\n",
        "    Returns:\n",
        "    params -- python dictionary containing your parameters:\n",
        "                    W1 -- weight matrix of shape (n_h, n_x)\n",
        "                    b1 -- bias vector of shape (n_h, 1)\n",
        "                    W2 -- weight matrix of shape (n_y, n_h)\n",
        "                    b2 -- bias vector of shape (n_y, 1)\n",
        "    \"\"\"\n",
        "    #(≈ 4 lines of code)\n",
        "    # W1 = ...\n",
        "    # b1 = ...\n",
        "    # W2 = ...\n",
        "    # b2 = ...\n",
        "    # YOUR CODE STARTS HERE\n",
        "    W1 = np.random.randn(n_h, n_x)*0.01\n",
        "    b1 = np.zeros((n_h,1))\n",
        "    W2 = np.random.randn(n_y, n_h)*0.01\n",
        "    b2 = np.zeros((n_y,1))\n",
        "\n",
        "\n",
        "    # YOUR CODE ENDS HERE\n",
        "\n",
        "    parameters = {\"W1\": W1,\n",
        "                  \"b1\": b1,\n",
        "                  \"W2\": W2,\n",
        "                  \"b2\": b2}\n",
        "\n",
        "    return parameters"
      ]
    },
    {
      "cell_type": "code",
      "execution_count": null,
      "metadata": {
        "deletable": false,
        "editable": false,
        "nbgrader": {
          "cell_type": "code",
          "checksum": "045cf9c8734315fb006b39700c252b85",
          "grade": true,
          "grade_id": "cell-7aa275067ab508e9",
          "locked": true,
          "points": 10,
          "schema_version": 3,
          "solution": false,
          "task": false
        },
        "id": "5R9GtUj_0tRY",
        "outputId": "96997b7a-38cb-4f80-b4d2-0023737e426e"
      },
      "outputs": [
        {
          "name": "stdout",
          "output_type": "stream",
          "text": [
            "W1 = [[-0.00416758 -0.00056267]\n",
            " [-0.02136196  0.01640271]\n",
            " [-0.01793436 -0.00841747]\n",
            " [ 0.00502881 -0.01245288]]\n",
            "b1 = [[0.]\n",
            " [0.]\n",
            " [0.]\n",
            " [0.]]\n",
            "W2 = [[-0.01057952 -0.00909008  0.00551454  0.02292208]]\n",
            "b2 = [[0.]]\n",
            "\u001b[92mAll tests passed!\n"
          ]
        }
      ],
      "source": [
        "np.random.seed(2)\n",
        "n_x, n_h, n_y = initialize_parameters_test_case()\n",
        "parameters = initialize_parameters(n_x, n_h, n_y)\n",
        "\n",
        "print(\"W1 = \" + str(parameters[\"W1\"]))\n",
        "print(\"b1 = \" + str(parameters[\"b1\"]))\n",
        "print(\"W2 = \" + str(parameters[\"W2\"]))\n",
        "print(\"b2 = \" + str(parameters[\"b2\"]))\n",
        "\n",
        "initialize_parameters_test(initialize_parameters)"
      ]
    },
    {
      "cell_type": "markdown",
      "metadata": {
        "id": "UlqSvyGT0tRY"
      },
      "source": [
        "**Expected output**\n",
        "```\n",
        "W1 = [[-0.00416758 -0.00056267]\n",
        " [-0.02136196  0.01640271]\n",
        " [-0.01793436 -0.00841747]\n",
        " [ 0.00502881 -0.01245288]]\n",
        "b1 = [[0.]\n",
        " [0.]\n",
        " [0.]\n",
        " [0.]]\n",
        "W2 = [[-0.01057952 -0.00909008  0.00551454  0.02292208]]\n",
        "b2 = [[0.]]\n",
        "All tests passed!\n",
        "```"
      ]
    },
    {
      "cell_type": "markdown",
      "metadata": {
        "id": "uFwsUkOJ0tRZ"
      },
      "source": [
        "<a name='4-3'></a>\n",
        "### 4.3 - The Loop\n",
        "\n",
        "<a name='ex-4'></a>\n",
        "### Exercise 4 - forward_propagation\n",
        "\n",
        "Implement `forward_propagation()` using the following equations:\n",
        "\n",
        "$$Z^{[1]} =  W^{[1]} X + b^{[1]}\\tag{1}$$\n",
        "$$A^{[1]} = \\tanh(Z^{[1]})\\tag{2}$$\n",
        "$$Z^{[2]} = W^{[2]} A^{[1]} + b^{[2]}\\tag{3}$$\n",
        "$$\\hat{Y} = A^{[2]} = \\sigma(Z^{[2]})\\tag{4}$$\n",
        "\n",
        "\n",
        "**Instructions**:\n",
        "\n",
        "- Check the mathematical representation of your classifier in the figure above.\n",
        "- Use the function `sigmoid()`. It's built into (imported) this notebook.\n",
        "- Use the function `np.tanh()`. It's part of the numpy library.\n",
        "- Implement using these steps:\n",
        "    1. Retrieve each parameter from the dictionary \"parameters\" (which is the output of `initialize_parameters()` by using `parameters[\"..\"]`.\n",
        "    2. Implement Forward Propagation. Compute $Z^{[1]}, A^{[1]}, Z^{[2]}$ and $A^{[2]}$ (the vector of all your predictions on all the examples in the training set).\n",
        "- Values needed in the backpropagation are stored in \"cache\". The cache will be given as an input to the backpropagation function."
      ]
    },
    {
      "cell_type": "code",
      "execution_count": null,
      "metadata": {
        "deletable": false,
        "nbgrader": {
          "cell_type": "code",
          "checksum": "f85c43256805578b8386a15d778dfd6a",
          "grade": false,
          "grade_id": "cell-b41d8713ffbb054c",
          "locked": false,
          "schema_version": 3,
          "solution": true,
          "task": false
        },
        "id": "lorjKWeZ0tRZ"
      },
      "outputs": [],
      "source": [
        "# GRADED FUNCTION:forward_propagation\n",
        "\n",
        "def forward_propagation(X, parameters):\n",
        "    \"\"\"\n",
        "    Argument:\n",
        "    X -- input data of size (n_x, m)\n",
        "    parameters -- python dictionary containing your parameters (output of initialization function)\n",
        "\n",
        "    Returns:\n",
        "    A2 -- The sigmoid output of the second activation\n",
        "    cache -- a dictionary containing \"Z1\", \"A1\", \"Z2\" and \"A2\"\n",
        "    \"\"\"\n",
        "    # Retrieve each parameter from the dictionary \"parameters\"\n",
        "    #(≈ 4 lines of code)\n",
        "    # YOUR CODE STARTS HERE\n",
        "    W1 = parameters['W1']\n",
        "    b1 = parameters['b1']\n",
        "    W2 = parameters['W2']\n",
        "    b2 = parameters['b2']\n",
        "\n",
        "    # YOUR CODE ENDS HERE\n",
        "\n",
        "    # Implement Forward Propagation to calculate A2 (probabilities)\n",
        "    # (≈ 4 lines of code)\n",
        "\n",
        "    # YOUR CODE STARTS HERE\n",
        "\n",
        "    Z1 = W1@X + b1\n",
        "    A1 = np.tanh(Z1)\n",
        "    Z2 = W2@A1 + b2\n",
        "    A2 = sigmoid(Z2)\n",
        "\n",
        "    # YOUR CODE ENDS HERE\n",
        "\n",
        "    assert(A2.shape == (1, X.shape[1]))\n",
        "\n",
        "    cache = {\"Z1\": Z1,\n",
        "             \"A1\": A1,\n",
        "             \"Z2\": Z2,\n",
        "             \"A2\": A2}\n",
        "\n",
        "    return A2, cache"
      ]
    },
    {
      "cell_type": "code",
      "execution_count": null,
      "metadata": {
        "deletable": false,
        "editable": false,
        "nbgrader": {
          "cell_type": "code",
          "checksum": "8742f1f4bedcdb56dcc2a15bb794ff79",
          "grade": true,
          "grade_id": "cell-8c8104df1945b472",
          "locked": true,
          "points": 10,
          "schema_version": 3,
          "solution": false,
          "task": false
        },
        "id": "JUzkTGFN0tRZ",
        "outputId": "4f66cefc-242c-45e6-f3a8-ae4182cf7c6e"
      },
      "outputs": [
        {
          "name": "stdout",
          "output_type": "stream",
          "text": [
            "A2 = [[0.21292656 0.21274673 0.21295976]]\n",
            "\u001b[92mAll tests passed!\n"
          ]
        }
      ],
      "source": [
        "t_X, parameters = forward_propagation_test_case()\n",
        "A2, cache = forward_propagation(t_X, parameters)\n",
        "print(\"A2 = \" + str(A2))\n",
        "\n",
        "forward_propagation_test(forward_propagation)"
      ]
    },
    {
      "cell_type": "markdown",
      "metadata": {
        "id": "FSzxnEWZ0tRZ"
      },
      "source": [
        "***Expected output***\n",
        "```\n",
        "A2 = [[0.21292656 0.21274673 0.21295976]]\n",
        "All tests passed!\n",
        "```"
      ]
    },
    {
      "cell_type": "markdown",
      "metadata": {
        "id": "Pq7HA6mH0tRa"
      },
      "source": [
        "<a name='4-4'></a>\n",
        "### 4.4 - Compute the Cost\n",
        "\n",
        "Now that you've computed $A^{[2]}$ (in the Python variable \"`A2`\"), which contains $a^{[2](i)}$ for all examples, you can compute the cost function as follows:\n",
        "\n",
        "$$J = - \\frac{1}{m} \\sum\\limits_{i = 1}^{m} \\large{(} \\small y^{(i)}\\log\\left(a^{[2] (i)}\\right) + (1-y^{(i)})\\log\\left(1- a^{[2] (i)}\\right) \\large{)} \\small\\tag{13}$$\n",
        "\n",
        "<a name='ex-5'></a>\n",
        "### Exercise 5 - compute_cost\n",
        "\n",
        "Implement `compute_cost()` to compute the value of the cost $J$.\n",
        "\n",
        "**Instructions**:\n",
        "- There are many ways to implement the cross-entropy loss. This is one way to implement one part of the equation without for loops:\n",
        "$- \\sum\\limits_{i=1}^{m}  y^{(i)}\\log(a^{[2](i)})$:\n",
        "```python\n",
        "logprobs = np.multiply(np.log(A2),Y)\n",
        "cost = - np.sum(logprobs)          \n",
        "```\n",
        "\n",
        "- Use that to build the whole expression of the cost function.\n",
        "\n",
        "**Notes**:\n",
        "\n",
        "- You can use either `np.multiply()` and then `np.sum()` or directly `np.dot()`).  \n",
        "- If you use `np.multiply` followed by `np.sum` the end result will be a type `float`, whereas if you use `np.dot`, the result will be a 2D numpy array.  \n",
        "- You can use `np.squeeze()` to remove redundant dimensions (in the case of single float, this will be reduced to a zero-dimension array).\n",
        "- You can also cast the array as a type `float` using `float()`."
      ]
    },
    {
      "cell_type": "code",
      "execution_count": null,
      "metadata": {
        "deletable": false,
        "nbgrader": {
          "cell_type": "code",
          "checksum": "40359ee771bdf2b1c9306b2d03fc975f",
          "grade": false,
          "grade_id": "cell-3dba3a966f90c35a",
          "locked": false,
          "schema_version": 3,
          "solution": true,
          "task": false
        },
        "id": "y-HPFuTZ0tRa"
      },
      "outputs": [],
      "source": [
        "# GRADED FUNCTION: compute_cost\n",
        "\n",
        "def compute_cost(A2, Y):\n",
        "    \"\"\"\n",
        "    Computes the cross-entropy cost given in equation (13)\n",
        "\n",
        "    Arguments:\n",
        "    A2 -- The sigmoid output of the second activation, of shape (1, number of examples)\n",
        "    Y -- \"true\" labels vector of shape (1, number of examples)\n",
        "\n",
        "    Returns:\n",
        "    cost -- cross-entropy cost given equation (13)\n",
        "\n",
        "    \"\"\"\n",
        "\n",
        "    m = Y.shape[1] # number of examples\n",
        "\n",
        "    # Compute the cross-entropy cost\n",
        "    # (≈ 2 lines of code)\n",
        "    # YOUR CODE STARTS HERE\n",
        "    logprobs = np.log(A2)@Y.T + np.log(1-A2)@(1-Y.T)\n",
        "    cost = -1*np.sum(logprobs) /m\n",
        "\n",
        "\n",
        "    # YOUR CODE ENDS HERE\n",
        "\n",
        "    cost = float(np.squeeze(cost))  # makes sure cost is the dimension we expect.\n",
        "                                    # E.g., turns [[17]] into 17\n",
        "\n",
        "    return cost"
      ]
    },
    {
      "cell_type": "code",
      "execution_count": null,
      "metadata": {
        "deletable": false,
        "editable": false,
        "nbgrader": {
          "cell_type": "code",
          "checksum": "237213dfd4d9da35e08c7477d5fddd12",
          "grade": true,
          "grade_id": "cell-be9a6c2220f20d3a",
          "locked": true,
          "points": 10,
          "schema_version": 3,
          "solution": false,
          "task": false
        },
        "id": "mA1n-1Ir0tRa",
        "outputId": "13ab3309-04e6-4d3d-ac49-f88fb26ca026"
      },
      "outputs": [
        {
          "name": "stdout",
          "output_type": "stream",
          "text": [
            "cost = 0.6930587610394646\n",
            "\u001b[92mAll tests passed!\n"
          ]
        }
      ],
      "source": [
        "A2, t_Y = compute_cost_test_case()\n",
        "cost = compute_cost(A2, t_Y)\n",
        "print(\"cost = \" + str(compute_cost(A2, t_Y)))\n",
        "\n",
        "compute_cost_test(compute_cost)"
      ]
    },
    {
      "cell_type": "code",
      "execution_count": null,
      "metadata": {
        "id": "3JHl7jj_0tRa"
      },
      "outputs": [],
      "source": []
    },
    {
      "cell_type": "markdown",
      "metadata": {
        "id": "WVoIiQ1j0tRb"
      },
      "source": [
        "***Expected output***\n",
        "```\n",
        "cost = 0.6930587610394646\n",
        "All tests passed!\n",
        "```\n"
      ]
    },
    {
      "cell_type": "markdown",
      "metadata": {
        "id": "dBmbm4sE0tRb"
      },
      "source": [
        "<a name='4-5'></a>\n",
        "### 4.5 - Implement Backpropagation\n",
        "\n",
        "Using the cache computed during forward propagation, you can now implement backward propagation.\n",
        "\n",
        "<a name='ex-6'></a>\n",
        "### Exercise 6 -  backward_propagation\n",
        "\n",
        "Implement the function `backward_propagation()`.\n",
        "\n",
        "**Instructions**:\n",
        "Backpropagation is usually the hardest (most mathematical) part in deep learning. To help you, here again is the slide from the lecture on backpropagation. You'll want to use the six equations on the right of this slide, since you are building a vectorized implementation.  \n",
        "\n",
        "<img src=\"images/grad_summary.png\" style=\"width:600px;height:300px;\">\n",
        "<caption><center><font color='purple'><b>Figure 1</b>: Backpropagation. Use the six equations on the right.</font></center></caption>\n",
        "\n",
        "<!--\n",
        "$\\frac{\\partial \\mathcal{J} }{ \\partial z_{2}^{(i)} } = \\frac{1}{m} (a^{[2](i)} - y^{(i)})$\n",
        "\n",
        "$\\frac{\\partial \\mathcal{J} }{ \\partial W_2 } = \\frac{\\partial \\mathcal{J} }{ \\partial z_{2}^{(i)} } a^{[1] (i) T} $\n",
        "\n",
        "$\\frac{\\partial \\mathcal{J} }{ \\partial b_2 } = \\sum_i{\\frac{\\partial \\mathcal{J} }{ \\partial z_{2}^{(i)}}}$\n",
        "\n",
        "$\\frac{\\partial \\mathcal{J} }{ \\partial z_{1}^{(i)} } =  W_2^T \\frac{\\partial \\mathcal{J} }{ \\partial z_{2}^{(i)} } * ( 1 - a^{[1] (i) 2}) $\n",
        "\n",
        "$\\frac{\\partial \\mathcal{J} }{ \\partial W_1 } = \\frac{\\partial \\mathcal{J} }{ \\partial z_{1}^{(i)} }  X^T $\n",
        "\n",
        "$\\frac{\\partial \\mathcal{J} _i }{ \\partial b_1 } = \\sum_i{\\frac{\\partial \\mathcal{J} }{ \\partial z_{1}^{(i)}}}$\n",
        "\n",
        "- Note that $*$ denotes elementwise multiplication.\n",
        "- The notation you will use is common in deep learning coding:\n",
        "    - dW1 = $\\frac{\\partial \\mathcal{J} }{ \\partial W_1 }$\n",
        "    - db1 = $\\frac{\\partial \\mathcal{J} }{ \\partial b_1 }$\n",
        "    - dW2 = $\\frac{\\partial \\mathcal{J} }{ \\partial W_2 }$\n",
        "    - db2 = $\\frac{\\partial \\mathcal{J} }{ \\partial b_2 }$\n",
        "    \n",
        "!-->\n",
        "\n",
        "- Tips:\n",
        "    - To compute dZ1 you'll need to compute $g^{[1]'}(Z^{[1]})$. Since $g^{[1]}(.)$ is the tanh activation function, if $a = g^{[1]}(z)$ then $g^{[1]'}(z) = 1-a^2$. So you can compute\n",
        "    $g^{[1]'}(Z^{[1]})$ using `(1 - np.power(A1, 2))`."
      ]
    },
    {
      "cell_type": "code",
      "execution_count": null,
      "metadata": {
        "deletable": false,
        "nbgrader": {
          "cell_type": "code",
          "checksum": "b3e942b09120df109c1602281e11576b",
          "grade": false,
          "grade_id": "cell-0f8a26305f1ccef7",
          "locked": false,
          "schema_version": 3,
          "solution": true,
          "task": false
        },
        "id": "UM6wBasj0tRb"
      },
      "outputs": [],
      "source": [
        "# GRADED FUNCTION: backward_propagation\n",
        "\n",
        "def backward_propagation(parameters, cache, X, Y):\n",
        "    \"\"\"\n",
        "    Implement the backward propagation using the instructions above.\n",
        "\n",
        "    Arguments:\n",
        "    parameters -- python dictionary containing our parameters\n",
        "    cache -- a dictionary containing \"Z1\", \"A1\", \"Z2\" and \"A2\".\n",
        "    X -- input data of shape (2, number of examples)\n",
        "    Y -- \"true\" labels vector of shape (1, number of examples)\n",
        "\n",
        "    Returns:\n",
        "    grads -- python dictionary containing your gradients with respect to different parameters\n",
        "    \"\"\"\n",
        "    m = X.shape[1]\n",
        "\n",
        "    # First, retrieve W1 and W2 from the dictionary \"parameters\".\n",
        "    #(≈ 2 lines of code)\n",
        "\n",
        "    # YOUR CODE STARTS HERE\n",
        "    W1 = parameters[\"W1\"]\n",
        "    W2 = parameters[\"W2\"]\n",
        "    # YOUR CODE ENDS HERE\n",
        "\n",
        "    # Retrieve also A1 and A2 from dictionary \"cache\".\n",
        "    #(≈ 2 lines of code)\n",
        "    A1 = cache[\"A1\"]\n",
        "    A2 = cache[\"A2\"]\n",
        "    # YOUR CODE STARTS HERE\n",
        "\n",
        "\n",
        "    # YOUR CODE ENDS HERE\n",
        "    # Backward propagation: calculate dW1, db1, dW2, db2.\n",
        "    #(≈ 6 lines of code, corresponding to 6 equations on slide above)\n",
        "    # YOUR CODE STARTS HERE\n",
        "    dZ2 = A2 - Y\n",
        "    dW2 = dZ2 @ A1.T / m\n",
        "    db2 = np.sum(dZ2, axis=1, keepdims=True)/m\n",
        "    dZ1 = W2.T@dZ2 * (1 - np.power(A1, 2))\n",
        "    dW1 = dZ1 @ X.T / m\n",
        "    db1 = np.sum(dZ1, axis=1, keepdims=True)/m\n",
        "\n",
        "    # YOUR CODE ENDS HERE\n",
        "\n",
        "    grads = {\"dW1\": dW1,\n",
        "             \"db1\": db1,\n",
        "             \"dW2\": dW2,\n",
        "             \"db2\": db2}\n",
        "\n",
        "    return grads"
      ]
    },
    {
      "cell_type": "code",
      "execution_count": null,
      "metadata": {
        "deletable": false,
        "editable": false,
        "nbgrader": {
          "cell_type": "code",
          "checksum": "d7083c449c3dd88f91128e1c5d4d80c7",
          "grade": true,
          "grade_id": "cell-cbd08e4138b79fe9",
          "locked": true,
          "points": 10,
          "schema_version": 3,
          "solution": false,
          "task": false
        },
        "id": "jcXE8lkm0tRc",
        "outputId": "47079844-6579-41d4-8e72-c46a23833e54"
      },
      "outputs": [
        {
          "name": "stdout",
          "output_type": "stream",
          "text": [
            "dW1 = [[ 0.00301023 -0.00747267]\n",
            " [ 0.00257968 -0.00641288]\n",
            " [-0.00156892  0.003893  ]\n",
            " [-0.00652037  0.01618243]]\n",
            "db1 = [[ 0.00176201]\n",
            " [ 0.00150995]\n",
            " [-0.00091736]\n",
            " [-0.00381422]]\n",
            "dW2 = [[ 0.00078841  0.01765429 -0.00084166 -0.01022527]]\n",
            "db2 = [[-0.16655712]]\n",
            "\u001b[92mAll tests passed!\n"
          ]
        }
      ],
      "source": [
        "parameters, cache, t_X, t_Y = backward_propagation_test_case()\n",
        "\n",
        "grads = backward_propagation(parameters, cache, t_X, t_Y)\n",
        "print (\"dW1 = \"+ str(grads[\"dW1\"]))\n",
        "print (\"db1 = \"+ str(grads[\"db1\"]))\n",
        "print (\"dW2 = \"+ str(grads[\"dW2\"]))\n",
        "print (\"db2 = \"+ str(grads[\"db2\"]))\n",
        "\n",
        "backward_propagation_test(backward_propagation)"
      ]
    },
    {
      "cell_type": "markdown",
      "metadata": {
        "id": "9dbVWw2I0tRh"
      },
      "source": [
        "***Expected output***\n",
        "```\n",
        "dW1 = [[ 0.00301023 -0.00747267]\n",
        " [ 0.00257968 -0.00641288]\n",
        " [-0.00156892  0.003893  ]\n",
        " [-0.00652037  0.01618243]]\n",
        "db1 = [[ 0.00176201]\n",
        " [ 0.00150995]\n",
        " [-0.00091736]\n",
        " [-0.00381422]]\n",
        "dW2 = [[ 0.00078841  0.01765429 -0.00084166 -0.01022527]]\n",
        "db2 = [[-0.16655712]]\n",
        "All tests passed!\n",
        "```"
      ]
    },
    {
      "cell_type": "markdown",
      "metadata": {
        "id": "yt2lXCOC0tRh"
      },
      "source": [
        "<a name='4-6'></a>\n",
        "### 4.6 - Update Parameters\n",
        "\n",
        "<a name='ex-7'></a>\n",
        "### Exercise 7 - update_parameters\n",
        "\n",
        "Implement the update rule. Use gradient descent. You have to use (dW1, db1, dW2, db2) in order to update (W1, b1, W2, b2).\n",
        "\n",
        "**General gradient descent rule**: $\\theta = \\theta - \\alpha \\frac{\\partial J }{ \\partial \\theta }$ where $\\alpha$ is the learning rate and $\\theta$ represents a parameter.\n",
        "\n",
        "<img src=\"images/sgd.gif\" style=\"width:400;height:400;\"> <img src=\"images/sgd_bad.gif\" style=\"width:400;height:400;\">\n",
        "<caption><center><font color='purple'><b>Figure 2</b>: The gradient descent algorithm with a good learning rate (converging) and a bad learning rate (diverging). Images courtesy of Adam Harley.</font></center></caption>\n",
        "\n",
        "**Hint**\n",
        "\n",
        "- Use `copy.deepcopy(...)` when copying lists or dictionaries that are passed as parameters to functions. It avoids input parameters being modified within the function. In some scenarios, this could be inefficient, but it is required for grading purposes.\n"
      ]
    },
    {
      "cell_type": "code",
      "execution_count": null,
      "metadata": {
        "deletable": false,
        "nbgrader": {
          "cell_type": "code",
          "checksum": "63f89f94a280c8674c7ece8f915fb051",
          "grade": false,
          "grade_id": "cell-f0a3d6f05b55f29e",
          "locked": false,
          "schema_version": 3,
          "solution": true,
          "task": false
        },
        "id": "E8MpM7hV0tRh"
      },
      "outputs": [],
      "source": [
        "# GRADED FUNCTION: update_parameters\n",
        "\n",
        "def update_parameters(parameters, grads, learning_rate = 1.2):\n",
        "    \"\"\"\n",
        "    Updates parameters using the gradient descent update rule given above\n",
        "\n",
        "    Arguments:\n",
        "    parameters -- python dictionary containing your parameters\n",
        "    grads -- python dictionary containing your gradients\n",
        "\n",
        "    Returns:\n",
        "    parameters -- python dictionary containing your updated parameters\n",
        "    \"\"\"\n",
        "    # Retrieve a copy of each parameter from the dictionary \"parameters\". Use copy.deepcopy(...) for W1 and W2\n",
        "    #(≈ 4 lines of code)\n",
        "    # YOUR CODE STARTS HERE\n",
        "    W1 = parameters['W1']\n",
        "    b1 = parameters['b1']\n",
        "    W2 = parameters['W2']\n",
        "    b2 = parameters['b2']\n",
        "\n",
        "\n",
        "    # YOUR CODE ENDS HERE\n",
        "\n",
        "    # Retrieve each gradient from the dictionary \"grads\"\n",
        "    #(≈ 4 lines of code)\n",
        "    # dW1 = ...\n",
        "    # db1 = ...\n",
        "    # dW2 = ...\n",
        "    # db2 = ...\n",
        "    # YOUR CODE STARTS HERE\n",
        "    dW1 = grads['dW1']\n",
        "    db1 = grads['db1']\n",
        "    dW2 = grads['dW2']\n",
        "    db2 = grads['db2']\n",
        "\n",
        "\n",
        "    # YOUR CODE ENDS HERE\n",
        "\n",
        "    # Update rule for each parameter\n",
        "    #(≈ 4 lines of code)\n",
        "    # W1 = ...\n",
        "    # b1 = ...\n",
        "    # W2 = ...\n",
        "    # b2 = ...\n",
        "    # YOUR CODE STARTS HERE\n",
        "    W1 = W1 - learning_rate*dW1\n",
        "    b1 = b1 - learning_rate*db1\n",
        "    W2 = W2 - learning_rate*dW2\n",
        "    b2 = b2 - learning_rate*db2\n",
        "\n",
        "    # YOUR CODE ENDS HERE\n",
        "\n",
        "    parameters = {\"W1\": W1,\n",
        "                  \"b1\": b1,\n",
        "                  \"W2\": W2,\n",
        "                  \"b2\": b2}\n",
        "\n",
        "    return parameters"
      ]
    },
    {
      "cell_type": "code",
      "execution_count": null,
      "metadata": {
        "deletable": false,
        "editable": false,
        "nbgrader": {
          "cell_type": "code",
          "checksum": "0979d8e5e535620971e081abfff45839",
          "grade": true,
          "grade_id": "cell-21bc2649c66c1c26",
          "locked": true,
          "points": 10,
          "schema_version": 3,
          "solution": false,
          "task": false
        },
        "id": "waqVcyNS0tRh",
        "outputId": "c399fdec-d4d8-4198-9214-9421b572b5d6"
      },
      "outputs": [
        {
          "name": "stdout",
          "output_type": "stream",
          "text": [
            "W1 = [[-0.00643025  0.01936718]\n",
            " [-0.02410458  0.03978052]\n",
            " [-0.01653973 -0.02096177]\n",
            " [ 0.01046864 -0.05990141]]\n",
            "b1 = [[-1.02420756e-06]\n",
            " [ 1.27373948e-05]\n",
            " [ 8.32996807e-07]\n",
            " [-3.20136836e-06]]\n",
            "W2 = [[-0.01041081 -0.04463285  0.01758031  0.04747113]]\n",
            "b2 = [[0.00010457]]\n",
            "\u001b[92mAll tests passed!\n"
          ]
        }
      ],
      "source": [
        "parameters, grads = update_parameters_test_case()\n",
        "parameters = update_parameters(parameters, grads)\n",
        "\n",
        "print(\"W1 = \" + str(parameters[\"W1\"]))\n",
        "print(\"b1 = \" + str(parameters[\"b1\"]))\n",
        "print(\"W2 = \" + str(parameters[\"W2\"]))\n",
        "print(\"b2 = \" + str(parameters[\"b2\"]))\n",
        "\n",
        "update_parameters_test(update_parameters)"
      ]
    },
    {
      "cell_type": "markdown",
      "metadata": {
        "id": "36rMi5L_0tRi"
      },
      "source": [
        "***Expected output***\n",
        "```\n",
        "W1 = [[-0.00643025  0.01936718]\n",
        " [-0.02410458  0.03978052]\n",
        " [-0.01653973 -0.02096177]\n",
        " [ 0.01046864 -0.05990141]]\n",
        "b1 = [[-1.02420756e-06]\n",
        " [ 1.27373948e-05]\n",
        " [ 8.32996807e-07]\n",
        " [-3.20136836e-06]]\n",
        "W2 = [[-0.01041081 -0.04463285  0.01758031  0.04747113]]\n",
        "b2 = [[0.00010457]]\n",
        "All tests passed!\n",
        "```"
      ]
    },
    {
      "cell_type": "markdown",
      "metadata": {
        "id": "AzoD91W10tRi"
      },
      "source": [
        "<a name='4-7'></a>\n",
        "### 4.7 - Integration\n",
        "\n",
        "Integrate your functions in `nn_model()`\n",
        "\n",
        "<a name='ex-8'></a>\n",
        "### Exercise 8 - nn_model\n",
        "\n",
        "Build your neural network model in `nn_model()`.\n",
        "\n",
        "**Instructions**: The neural network model has to use the previous functions in the right order."
      ]
    },
    {
      "cell_type": "code",
      "execution_count": null,
      "metadata": {
        "deletable": false,
        "nbgrader": {
          "cell_type": "code",
          "checksum": "461c83f5d15193186d8b122d0a451895",
          "grade": false,
          "grade_id": "cell-25f5e3e9b4ef006f",
          "locked": false,
          "schema_version": 3,
          "solution": true,
          "task": false
        },
        "id": "5nTPfOx90tRi"
      },
      "outputs": [],
      "source": [
        "# GRADED FUNCTION: nn_model\n",
        "\n",
        "def nn_model(X, Y, n_h, num_iterations = 10000, print_cost=False):\n",
        "    \"\"\"\n",
        "    Arguments:\n",
        "    X -- dataset of shape (2, number of examples)\n",
        "    Y -- labels of shape (1, number of examples)\n",
        "    n_h -- size of the hidden layer\n",
        "    num_iterations -- Number of iterations in gradient descent loop\n",
        "    print_cost -- if True, print the cost every 1000 iterations\n",
        "\n",
        "    Returns:\n",
        "    parameters -- parameters learnt by the model. They can then be used to predict.\n",
        "    \"\"\"\n",
        "\n",
        "    np.random.seed(3)\n",
        "    n_x = layer_sizes(X, Y)[0]\n",
        "    n_y = layer_sizes(X, Y)[2]\n",
        "\n",
        "    # Initialize parameters\n",
        "    #(≈ 1 line of code)\n",
        "    # parameters = ...\n",
        "    # YOUR CODE STARTS HERE\n",
        "    parameters = initialize_parameters(n_x, n_h, n_y)\n",
        "    # YOUR CODE ENDS HERE\n",
        "\n",
        "    # Loop (gradient descent)\n",
        "\n",
        "    for i in range(0, num_iterations):\n",
        "\n",
        "        #(≈ 4 lines of code)\n",
        "        # YOUR CODE STARTS HERE\n",
        "\n",
        "        # Forward propagation. Inputs: \"X, parameters\". Outputs: \"A2, cache\".\n",
        "        A2, cache = forward_propagation(X, parameters)\n",
        "\n",
        "        # Cost function. Inputs: \"A2, Y\". Outputs: \"cost\".\n",
        "        cost = compute_cost(A2, Y)\n",
        "\n",
        "        # Backpropagation. Inputs: \"parameters, cache, X, Y\". Outputs: \"grads\".\n",
        "        grads = backward_propagation(parameters, cache, X, Y)\n",
        "\n",
        "        # Gradient descent parameter update. Inputs: \"parameters, grads\". Outputs: \"parameters\".\n",
        "        parameters = update_parameters(parameters, grads)\n",
        "        # YOUR CODE ENDS HERE\n",
        "\n",
        "        # Print the cost every 1000 iterations\n",
        "        if print_cost and i % 1000 == 0:\n",
        "            print (\"Cost after iteration %i: %f\" %(i, cost))\n",
        "\n",
        "    return parameters"
      ]
    },
    {
      "cell_type": "code",
      "execution_count": null,
      "metadata": {
        "deletable": false,
        "editable": false,
        "nbgrader": {
          "cell_type": "code",
          "checksum": "c5a88642effdc073e396131eecc242b2",
          "grade": true,
          "grade_id": "cell-3484cc5d41a6cff7",
          "locked": true,
          "points": 10,
          "schema_version": 3,
          "solution": false,
          "task": false
        },
        "id": "bmyKV7Ab0tRi",
        "outputId": "7c7da09c-93e0-4d8c-ea62-0fdbb8d7326f"
      },
      "outputs": [
        {
          "name": "stdout",
          "output_type": "stream",
          "text": [
            "Cost after iteration 0: 0.693086\n",
            "Cost after iteration 1000: 0.000220\n",
            "Cost after iteration 2000: 0.000108\n",
            "Cost after iteration 3000: 0.000072\n",
            "Cost after iteration 4000: 0.000054\n",
            "Cost after iteration 5000: 0.000043\n",
            "Cost after iteration 6000: 0.000036\n",
            "Cost after iteration 7000: 0.000030\n",
            "Cost after iteration 8000: 0.000027\n",
            "Cost after iteration 9000: 0.000024\n",
            "W1 = [[ 0.71392202  1.31281102]\n",
            " [-0.76411243 -1.41967065]\n",
            " [-0.75040545 -1.38857337]\n",
            " [ 0.56495575  1.04857776]]\n",
            "b1 = [[-0.0073536 ]\n",
            " [ 0.01534663]\n",
            " [ 0.01262938]\n",
            " [ 0.00218135]]\n",
            "W2 = [[ 2.82545815 -3.3063945  -3.16116615  1.8549574 ]]\n",
            "b2 = [[0.00393452]]\n",
            "\u001b[92mAll tests passed!\n"
          ]
        }
      ],
      "source": [
        "nn_model_test(nn_model)"
      ]
    },
    {
      "cell_type": "markdown",
      "metadata": {
        "id": "-t3v2I970tRi"
      },
      "source": [
        "***Expected output***\n",
        "```\n",
        "Cost after iteration 0: 0.693198\n",
        "Cost after iteration 1000: 0.000219\n",
        "Cost after iteration 2000: 0.000108\n",
        "...\n",
        "Cost after iteration 8000: 0.000027\n",
        "Cost after iteration 9000: 0.000024\n",
        "W1 = [[ 0.71392202  1.31281102]\n",
        " [-0.76411243 -1.41967065]\n",
        " [-0.75040545 -1.38857337]\n",
        " [ 0.56495575  1.04857776]]\n",
        "b1 = [[-0.0073536 ]\n",
        " [ 0.01534663]\n",
        " [ 0.01262938]\n",
        " [ 0.00218135]]\n",
        "W2 = [[ 2.82545815 -3.3063945  -3.16116615  1.8549574 ]]\n",
        "b2 = [[0.00393452]]\n",
        "All tests passed!\n",
        "```"
      ]
    },
    {
      "cell_type": "markdown",
      "metadata": {
        "id": "-PqylGLi0tRj"
      },
      "source": [
        "<a name='5'></a>\n",
        "## 5 - Test the Model\n",
        "\n",
        "<a name='5-1'></a>\n",
        "### 5.1 - Predict\n",
        "\n",
        "<a name='ex-9'></a>\n",
        "### Exercise 9 - predict\n",
        "\n",
        "Predict with your model by building `predict()`.\n",
        "Use forward propagation to predict results.\n",
        "\n",
        "**Reminder**: predictions = $y_{prediction} = \\mathbb 1 \\text{{activation > 0.5}} = \\begin{cases}\n",
        "      1 & \\text{if}\\ activation > 0.5 \\\\\n",
        "      0 & \\text{otherwise}\n",
        "    \\end{cases}$  \n",
        "    \n",
        "As an example, if you would like to set the entries of a matrix X to 0 and 1 based on a threshold you would do: ```X_new = (X > threshold)```"
      ]
    },
    {
      "cell_type": "code",
      "execution_count": null,
      "metadata": {
        "deletable": false,
        "nbgrader": {
          "cell_type": "code",
          "checksum": "47f6c9deeb2c83107018f17aa987bfe2",
          "grade": false,
          "grade_id": "cell-54e92a8c3c22758b",
          "locked": false,
          "schema_version": 3,
          "solution": true,
          "task": false
        },
        "id": "S5P9xqV00tRj"
      },
      "outputs": [],
      "source": [
        "# GRADED FUNCTION: predict\n",
        "\n",
        "def predict(parameters, X):\n",
        "    \"\"\"\n",
        "    Using the learned parameters, predicts a class for each example in X\n",
        "\n",
        "    Arguments:\n",
        "    parameters -- python dictionary containing your parameters\n",
        "    X -- input data of size (n_x, m)\n",
        "\n",
        "    Returns\n",
        "    predictions -- vector of predictions of our model (red: 0 / blue: 1)\n",
        "    \"\"\"\n",
        "\n",
        "    # Computes probabilities using forward propagation, and classifies to 0/1 using 0.5 as the threshold.\n",
        "    #(≈ 2 lines of code)\n",
        "    # A2, cache = ...\n",
        "    # predictions = ...\n",
        "    # YOUR CODE STARTS HERE\n",
        "    A2, cache = forward_propagation(X, parameters)\n",
        "    predictions = A2 > 0.5\n",
        "\n",
        "\n",
        "    # YOUR CODE ENDS HERE\n",
        "\n",
        "    return predictions"
      ]
    },
    {
      "cell_type": "code",
      "execution_count": null,
      "metadata": {
        "deletable": false,
        "editable": false,
        "nbgrader": {
          "cell_type": "code",
          "checksum": "930eb713dd8c9c0c38684deda0c4da0c",
          "grade": true,
          "grade_id": "cell-7d5ddc5f94da1d7a",
          "locked": true,
          "points": 10,
          "schema_version": 3,
          "solution": false,
          "task": false
        },
        "id": "0ToyedfM0tRj",
        "outputId": "a6736b4b-14a7-4abb-a6c1-a52ebaa33cc7"
      },
      "outputs": [
        {
          "name": "stdout",
          "output_type": "stream",
          "text": [
            "Predictions: [[ True False  True]]\n",
            "\u001b[92mAll tests passed!\n"
          ]
        }
      ],
      "source": [
        "parameters, t_X = predict_test_case()\n",
        "\n",
        "predictions = predict(parameters, t_X)\n",
        "print(\"Predictions: \" + str(predictions))\n",
        "\n",
        "predict_test(predict)"
      ]
    },
    {
      "cell_type": "markdown",
      "metadata": {
        "id": "RYoH1EhC0tRj"
      },
      "source": [
        "***Expected output***\n",
        "```\n",
        "Predictions: [[ True False  True]]\n",
        "All tests passed!\n",
        "```"
      ]
    },
    {
      "cell_type": "markdown",
      "metadata": {
        "id": "wCr466iH0tRj"
      },
      "source": [
        "<a name='5-2'></a>\n",
        "### 5.2 - Test the Model on the Planar Dataset\n",
        "\n",
        "It's time to run the model and see how it performs on a planar dataset. Run the following code to test your model with a single hidden layer of $n_h$ hidden units!"
      ]
    },
    {
      "cell_type": "code",
      "execution_count": null,
      "metadata": {
        "id": "NYTxArne0tRk",
        "outputId": "13a4b25a-f0ea-4992-d5b0-676525de2844"
      },
      "outputs": [
        {
          "name": "stdout",
          "output_type": "stream",
          "text": [
            "Cost after iteration 0: 0.693162\n",
            "Cost after iteration 1000: 0.258625\n",
            "Cost after iteration 2000: 0.239334\n",
            "Cost after iteration 3000: 0.230802\n",
            "Cost after iteration 4000: 0.225528\n",
            "Cost after iteration 5000: 0.221845\n",
            "Cost after iteration 6000: 0.219094\n",
            "Cost after iteration 7000: 0.220638\n",
            "Cost after iteration 8000: 0.219418\n",
            "Cost after iteration 9000: 0.218528\n"
          ]
        },
        {
          "data": {
            "text/plain": [
              "Text(0.5, 1.0, 'Decision Boundary for hidden layer size 4')"
            ]
          },
          "execution_count": 133,
          "metadata": {},
          "output_type": "execute_result"
        },
        {
          "data": {
            "image/png": "[encoded data removed]",
            "text/plain": [
              "<Figure size 432x288 with 1 Axes>"
            ]
          },
          "metadata": {
            "needs_background": "light"
          },
          "output_type": "display_data"
        }
      ],
      "source": [
        "# Build a model with a n_h-dimensional hidden layer\n",
        "parameters = nn_model(X, Y, n_h = 4, num_iterations = 10000, print_cost=True)\n",
        "\n",
        "# Plot the decision boundary\n",
        "plot_decision_boundary(lambda x: predict(parameters, x.T), X, Y)\n",
        "plt.title(\"Decision Boundary for hidden layer size \" + str(4))"
      ]
    },
    {
      "cell_type": "code",
      "execution_count": null,
      "metadata": {
        "id": "U3Ow5G5k0tRk",
        "outputId": "dd858abd-de40-4871-96f6-22ced4ce2d9c"
      },
      "outputs": [
        {
          "name": "stdout",
          "output_type": "stream",
          "text": [
            "Accuracy: 90%\n"
          ]
        }
      ],
      "source": [
        "# Print accuracy\n",
        "predictions = predict(parameters, X)\n",
        "print ('Accuracy: %d' % float((np.dot(Y, predictions.T) + np.dot(1 - Y, 1 - predictions.T)) / float(Y.size) * 100) + '%')"
      ]
    },
    {
      "cell_type": "markdown",
      "metadata": {
        "id": "ZJL2pL_T0tRk"
      },
      "source": [
        "**Expected Output**:\n",
        "\n",
        "<table style=\"width:30%\">\n",
        "  <tr>\n",
        "    <td><b>Accuracy</b></td>\n",
        "    <td> 90% </td>\n",
        "  </tr>\n",
        "</table>"
      ]
    },
    {
      "cell_type": "markdown",
      "metadata": {
        "id": "KLMcsstz0tRk"
      },
      "source": [
        "Accuracy is really high compared to Logistic Regression. The model has learned the patterns of the flower's petals! Unlike logistic regression, neural networks are able to learn even highly non-linear decision boundaries."
      ]
    },
    {
      "cell_type": "markdown",
      "metadata": {
        "id": "0VbgbCcx0tRl"
      },
      "source": [
        "### Congrats on finishing this Programming Assignment!\n",
        "\n",
        "Here's a quick recap of all you just accomplished:\n",
        "\n",
        "- Built a complete 2-class classification neural network with a hidden layer\n",
        "- Made good use of a non-linear unit\n",
        "- Computed the cross entropy loss\n",
        "- Implemented forward and backward propagation\n",
        "- Seen the impact of varying the hidden layer size, including overfitting.\n",
        "\n",
        "You've created a neural network that can learn patterns! Excellent work. Below, there are some optional exercises to try out some other hidden layer sizes, and other datasets."
      ]
    },
    {
      "cell_type": "markdown",
      "metadata": {
        "id": "PklJi7-60tRl"
      },
      "source": [
        "<a name='6'></a>\n",
        "## 6 - Tuning hidden layer size (optional/ungraded exercise)\n",
        "\n",
        "Run the following code(it may take 1-2 minutes). Then, observe different behaviors of the model for various hidden layer sizes."
      ]
    },
    {
      "cell_type": "code",
      "execution_count": null,
      "metadata": {
        "id": "AiExxZrl0tRl",
        "outputId": "b4493310-8a84-428d-ac51-c63bac18d29f"
      },
      "outputs": [
        {
          "name": "stdout",
          "output_type": "stream",
          "text": [
            "Accuracy for 1 hidden units: 69.5 %\n",
            "Accuracy for 2 hidden units: 79.5 %\n",
            "Accuracy for 3 hidden units: 98.0 %\n",
            "Accuracy for 4 hidden units: 97.5 %\n",
            "Accuracy for 5 hidden units: 99.0 %\n"
          ]
        },
        {
          "data": {
            "image/png": "[encoded data removed]",
            "text/plain": [
              "<Figure size 1152x2304 with 5 Axes>"
            ]
          },
          "metadata": {
            "needs_background": "light"
          },
          "output_type": "display_data"
        }
      ],
      "source": [
        "# This may take about 2 minutes to run\n",
        "\n",
        "plt.figure(figsize=(16, 32))\n",
        "hidden_layer_sizes = [1, 2, 3, 4, 5]\n",
        "\n",
        "# you can try with different hidden layer sizes\n",
        "# but make sure before you submit the assignment it is set as \"hidden_layer_sizes = [1, 2, 3, 4, 5]\"\n",
        "# hidden_layer_sizes = [1, 2, 3, 4, 5, 20, 50]\n",
        "\n",
        "for i, n_h in enumerate(hidden_layer_sizes):\n",
        "    plt.subplot(5, 2, i+1)\n",
        "    plt.title('Hidden Layer of size %d' % n_h)\n",
        "    parameters = nn_model(X, Y, n_h, num_iterations = 5000)\n",
        "    plot_decision_boundary(lambda x: predict(parameters, x.T), X, Y)\n",
        "    predictions = predict(parameters, X)\n",
        "    accuracy = float((np.dot(Y,predictions.T) + np.dot(1 - Y, 1 - predictions.T)) / float(Y.size)*100)\n",
        "    print (\"Accuracy for {} hidden units: {} %\".format(n_h, accuracy))"
      ]
    },
    {
      "cell_type": "markdown",
      "metadata": {
        "id": "YoCHH_iV0tRl"
      },
      "source": [
        "**Interpretation**:\n",
        "- The larger models (with more hidden units) are able to fit the training set better, until eventually the largest models overfit the data.\n",
        "- The best hidden layer size seems to be around n_h = 5. Indeed, a value around here seems to  fits the data well without also incurring noticeable overfitting.\n",
        "- Later, you'll become familiar with regularization, which lets you use very large models (such as n_h = 50) without much overfitting."
      ]
    },
    {
      "cell_type": "markdown",
      "metadata": {
        "id": "gtVn39dQ0tRl"
      },
      "source": [
        "**Note**: Remember to submit the assignment by clicking the blue \"Submit Assignment\" button at the upper-right.\n",
        "\n",
        "**Some optional/ungraded questions that you can explore if you wish**:\n",
        "- What happens when you change the tanh activation for a sigmoid activation or a ReLU activation?\n",
        "- Play with the learning_rate. What happens?\n",
        "- What if we change the dataset? (See part 7 below!)"
      ]
    },
    {
      "cell_type": "markdown",
      "metadata": {
        "id": "Oe6VLs2-0tRm"
      },
      "source": [
        "<a name='7'></a>\n",
        "## 7- Performance on other datasets"
      ]
    },
    {
      "cell_type": "markdown",
      "metadata": {
        "id": "bJEbrSaN0tRm"
      },
      "source": [
        "If you want, you can rerun the whole notebook (minus the dataset part) for each of the following datasets."
      ]
    },
    {
      "cell_type": "code",
      "execution_count": null,
      "metadata": {
        "id": "S14zcBVc0tRm",
        "outputId": "c033eb5a-b651-4011-bc86-a11b89c98acf"
      },
      "outputs": [
        {
          "data": {
            "image/png": "[encoded data removed]",
            "text/plain": [
              "<Figure size 432x288 with 1 Axes>"
            ]
          },
          "metadata": {
            "needs_background": "light"
          },
          "output_type": "display_data"
        }
      ],
      "source": [
        "# Datasets\n",
        "noisy_circles, noisy_moons, blobs, gaussian_quantiles, no_structure = load_extra_datasets()\n",
        "\n",
        "datasets = {\"noisy_circles\": noisy_circles,\n",
        "            \"noisy_moons\": noisy_moons,\n",
        "            \"blobs\": blobs,\n",
        "            \"gaussian_quantiles\": gaussian_quantiles}\n",
        "\n",
        "### START CODE HERE ### (choose your dataset)\n",
        "dataset = \"gaussian_quantiles\"\n",
        "### END CODE HERE ###\n",
        "\n",
        "X, Y = datasets[dataset]\n",
        "X, Y = X.T, Y.reshape(1, Y.shape[0])\n",
        "\n",
        "# make blobs binary\n",
        "if dataset == \"blobs\":\n",
        "    Y = Y%2\n",
        "\n",
        "# Visualize the data\n",
        "plt.scatter(X[0, :], X[1, :], c=Y, s=40, cmap=plt.cm.Spectral);"
      ]
    },
    {
      "cell_type": "markdown",
      "metadata": {
        "id": "FdMsxxPO0tRm"
      },
      "source": [
        "**References**:\n",
        "\n",
        "- http://cs231n.github.io/neural-networks-case-study/"
      ]
    },
    {
      "cell_type": "code",
      "execution_count": null,
      "metadata": {
        "id": "hOKinqgG0tRm"
      },
      "outputs": [],
      "source": []
    }
  ],
  "metadata": {
    "kernelspec": {
      "display_name": "Python 3",
      "language": "python",
      "name": "python3"
    },
    "language_info": {
      "codemirror_mode": {
        "name": "ipython",
        "version": 3
      },
      "file_extension": ".py",
      "mimetype": "text/x-python",
      "name": "python",
      "nbconvert_exporter": "python",
      "pygments_lexer": "ipython3",
      "version": "3.7.6"
    },
    "colab": {
      "provenance": [],
      "include_colab_link": true
    }
  },
  "nbformat": 4,
  "nbformat_minor": 0
}